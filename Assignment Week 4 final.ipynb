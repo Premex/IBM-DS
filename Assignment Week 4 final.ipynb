{
 "cells": [
  {
   "cell_type": "markdown",
   "metadata": {},
   "source": [
    "# Project Overview\n",
    "\n",
    "### Background:\n",
    "The objective of the project is to find a good spot for a new sushi restaurant in Cologne, Germany. The resulting recommendation can provide future restaurant owners a first insight about the region's competition.\n",
    "\n",
    "\n",
    "\n",
    "<table><tr><td><img src='Stuttgart-Innenstadt.jpg' width= \"600\"></td><td><img src='maki-sushi.jpg'width= \"255\"></td></tr></table>\n",
    "\n",
    "### Approach / Methodology:\n",
    "To achieve this, the DBSCAN Clustering Algorithm will be used. This algorithms can find the number of clusters depending on a spatial radius, making it a good fit for the given problem. \\\n",
    "These clusters will be used to create a map, that is visualizing hot spots, which likely are too competitive to create a new business. The solution will be to pick a spot, that is close to the center, but only part of a small cluster.\n",
    "\n",
    "Additionally, there will also be an attractivity score calculated for each cluster respectively. This will be depending on the most popular leasure time spots inside or very close to the cluster compared to the number of restaurants.\n",
    "\n",
    "At last, the clusters with the most likely chance of a successful market entrance will be compared in more detail, by using the ratings' and like counts' median and mean. If the number of restaurants in those clusters are exceeding 5, the 5 best restaurants in terms of rating and likes will be shown in a separate table as they will likely be the strongest competitors. If the number doesn't exceed 5, all will be shown in detail.\n",
    "\n",
    "### Data:\n",
    "The used data will be explorational data from the Foursquare DB, which is accessable without authentification. The core of the data are the geographical coordinates in order to create the map. However, also rating data of particular venues will be used.\n"
   ]
  }
 ],
 "metadata": {
  "kernelspec": {
   "display_name": "Python 3",
   "language": "python",
   "name": "python3"
  },
  "language_info": {
   "codemirror_mode": {
    "name": "ipython",
    "version": 3
   },
   "file_extension": ".py",
   "mimetype": "text/x-python",
   "name": "python",
   "nbconvert_exporter": "python",
   "pygments_lexer": "ipython3",
   "version": "3.7.6"
  }
 },
 "nbformat": 4,
 "nbformat_minor": 4
}

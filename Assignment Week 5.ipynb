{
 "cells": [
  {
   "cell_type": "markdown",
   "metadata": {},
   "source": [
    "# Project Overview\n",
    "\n",
    "### Background:\n",
    "The objective of the project is to find a good spot for a new sushi restaurant in Cologne, Germany. The resulting recommendation can provide future restaurant owners a first insight about the region's competition.\n",
    "\n",
    "\n",
    "\n",
    "<table><tr><td><img src='Stuttgart-Innenstadt.jpg' width= \"600\"></td><td><img src='maki-sushi.jpg'width= \"255\"></td></tr></table>\n",
    "\n",
    "### Approach / Methodology:\n",
    "To achieve this, the DBSCAN Clustering Algorithm will be used. This algorithms can find the number of clusters depending on a spatial radius, making it a good fit for the given problem. \\\n",
    "These clusters will be used to create a map, that is visualizing hot spots, which likely are too competitive to create a new business. The solution will be to pick a spot, that is close to the center, but only part of a small cluster.\n",
    "\n",
    "Additionally, there will also be an attractivity score calculated for each cluster respectively. This will be depending on the most popular leisure time spots inside or very close to the cluster compared to the number of restaurants.\n",
    "\n",
    "At last, the clusters with the most likely chance of a successful market entrance will be compared in more detail, by using the ratings' and like counts' median and mean. If the number of restaurants in those clusters are exceeding 5, the 5 best restaurants in terms of rating and likes will be shown in a separate table as they will likely be the strongest competitors. If the number doesn't exceed 5, all will be shown in detail.\n",
    "\n",
    "### Data:\n",
    "The used data will be explorational data from the Foursquare DB, which is accessable without authentification. The core of the data are the geographical coordinates in order to create the map. However, also rating data of particular venues will be used.\n"
   ]
  },
  {
   "cell_type": "code",
   "execution_count": 2,
   "metadata": {},
   "outputs": [],
   "source": [
    "import pandas as pd\n",
    "import requests\n",
    "from pandas.io.json import json_normalize"
   ]
  },
  {
   "cell_type": "code",
   "execution_count": 3,
   "metadata": {},
   "outputs": [],
   "source": [
    "client_id = \"LCWGCXXXXXXXXXXXXXXXXXXXXXXXXXXXRYV0\"\n",
    "client_secret = \"H2HVPBKCXXXXXXXXXXXXXXXXXXXXXYBFMLZK5\"\n",
    "\n",
    "latitude = 50.938056\n",
    "longitude = 6.956944\n",
    "radius = 4000\n"
   ]
  },
  {
   "cell_type": "code",
   "execution_count": 4,
   "metadata": {},
   "outputs": [],
   "source": [
    "def get_data(date, search_query): \n",
    "    '''\n",
    "    This function returns a dataframe of the Foursquare Data depending on the given date and search term\n",
    "    '''\n",
    "    \n",
    "    url = ('https://api.foursquare.com/v2/venues/search?client_id={}&client_secret={}&ll={},{}&v={}&query={}&radius={}&limit={}'\n",
    "            .format(client_id, client_secret, latitude, longitude, date, search_query, radius, 500))\n",
    "\n",
    "\n",
    "    results = requests.get(url).json()\n",
    "    venues = results['response']['venues']\n",
    "\n",
    "    df = pd.json_normalize(venues)\n",
    "\n",
    "    return df"
   ]
  },
  {
   "cell_type": "code",
   "execution_count": 5,
   "metadata": {},
   "outputs": [],
   "source": [
    "# Get sushi restaurant data\n",
    "main_data = get_data(20200514, \"sushi\").loc[:,[\"id\",\"name\", \"location.lat\", \"location.lng\"]]\n"
   ]
  },
  {
   "cell_type": "code",
   "execution_count": 6,
   "metadata": {},
   "outputs": [
    {
     "data": {
      "text/html": [
       "<div>\n",
       "<style scoped>\n",
       "    .dataframe tbody tr th:only-of-type {\n",
       "        vertical-align: middle;\n",
       "    }\n",
       "\n",
       "    .dataframe tbody tr th {\n",
       "        vertical-align: top;\n",
       "    }\n",
       "\n",
       "    .dataframe thead th {\n",
       "        text-align: right;\n",
       "    }\n",
       "</style>\n",
       "<table border=\"1\" class=\"dataframe\">\n",
       "  <thead>\n",
       "    <tr style=\"text-align: right;\">\n",
       "      <th></th>\n",
       "      <th>lat</th>\n",
       "      <th>lng</th>\n",
       "    </tr>\n",
       "  </thead>\n",
       "  <tbody>\n",
       "    <tr>\n",
       "      <th>0</th>\n",
       "      <td>50.938530</td>\n",
       "      <td>6.954084</td>\n",
       "    </tr>\n",
       "    <tr>\n",
       "      <th>1</th>\n",
       "      <td>50.937882</td>\n",
       "      <td>6.962241</td>\n",
       "    </tr>\n",
       "    <tr>\n",
       "      <th>2</th>\n",
       "      <td>50.940537</td>\n",
       "      <td>6.960486</td>\n",
       "    </tr>\n",
       "    <tr>\n",
       "      <th>3</th>\n",
       "      <td>50.938243</td>\n",
       "      <td>6.962875</td>\n",
       "    </tr>\n",
       "    <tr>\n",
       "      <th>4</th>\n",
       "      <td>50.937425</td>\n",
       "      <td>6.958523</td>\n",
       "    </tr>\n",
       "    <tr>\n",
       "      <th>...</th>\n",
       "      <td>...</td>\n",
       "      <td>...</td>\n",
       "    </tr>\n",
       "    <tr>\n",
       "      <th>95</th>\n",
       "      <td>50.922367</td>\n",
       "      <td>6.965660</td>\n",
       "    </tr>\n",
       "    <tr>\n",
       "      <th>96</th>\n",
       "      <td>50.948068</td>\n",
       "      <td>6.908591</td>\n",
       "    </tr>\n",
       "    <tr>\n",
       "      <th>97</th>\n",
       "      <td>50.916994</td>\n",
       "      <td>6.928838</td>\n",
       "    </tr>\n",
       "    <tr>\n",
       "      <th>98</th>\n",
       "      <td>50.961884</td>\n",
       "      <td>6.978495</td>\n",
       "    </tr>\n",
       "    <tr>\n",
       "      <th>99</th>\n",
       "      <td>50.917226</td>\n",
       "      <td>6.943638</td>\n",
       "    </tr>\n",
       "  </tbody>\n",
       "</table>\n",
       "<p>100 rows × 2 columns</p>\n",
       "</div>"
      ],
      "text/plain": [
       "          lat       lng\n",
       "0   50.938530  6.954084\n",
       "1   50.937882  6.962241\n",
       "2   50.940537  6.960486\n",
       "3   50.938243  6.962875\n",
       "4   50.937425  6.958523\n",
       "..        ...       ...\n",
       "95  50.922367  6.965660\n",
       "96  50.948068  6.908591\n",
       "97  50.916994  6.928838\n",
       "98  50.961884  6.978495\n",
       "99  50.917226  6.943638\n",
       "\n",
       "[100 rows x 2 columns]"
      ]
     },
     "execution_count": 6,
     "metadata": {},
     "output_type": "execute_result"
    }
   ],
   "source": [
    "#Get leisure data by explore statement\n",
    "\n",
    "url = ('https://api.foursquare.com/v2/venues/explore?client_id={}&client_secret={}&ll={},{}&v={}&query=Fun&radius={}&limit={}'\n",
    "            .format(client_id, client_secret, latitude, longitude, 20200514, radius, 500))\n",
    "\n",
    "results = requests.get(url).json()\n",
    "venues = results['response']\n",
    "\n",
    "\n",
    "leisure = venues[\"groups\"][0][\"items\"]\n",
    "\n",
    "result = [entry[\"venue\"] for entry in leisure]\n",
    "\n",
    "result = [(entry[\"location\"][\"lat\"], entry[\"location\"][\"lng\"]) for entry in result]\n",
    "leisure = pd.DataFrame(result, columns= [\"lat\", \"lng\"])\n",
    "leisure"
   ]
  },
  {
   "cell_type": "code",
   "execution_count": 7,
   "metadata": {},
   "outputs": [
    {
     "data": {
      "text/plain": [
       "'Number of Sushi Restaurants in Cologne: 48'"
      ]
     },
     "execution_count": 7,
     "metadata": {},
     "output_type": "execute_result"
    }
   ],
   "source": [
    "\"Number of Sushi Restaurants in Cologne: {}\".format(main_data.shape[0])"
   ]
  },
  {
   "cell_type": "markdown",
   "metadata": {},
   "source": [
    "### Clustering"
   ]
  },
  {
   "cell_type": "code",
   "execution_count": 8,
   "metadata": {},
   "outputs": [],
   "source": [
    "import numpy as np\n",
    "from sklearn.cluster import DBSCAN\n",
    "from sklearn.preprocessing import StandardScaler"
   ]
  },
  {
   "cell_type": "code",
   "execution_count": 9,
   "metadata": {},
   "outputs": [],
   "source": [
    "coords = main_data.loc[:,[\"location.lat\", \"location.lng\"]]\n",
    "coords = StandardScaler().fit_transform(coords)\n",
    "\n",
    "db_cluster = DBSCAN(eps = 0.35, min_samples = 3).fit(coords)\n",
    "\n",
    "labels = db_cluster.labels_\n",
    "label_num = len(np.unique(labels))\n",
    "main_data[\"label\"] = labels\n"
   ]
  },
  {
   "cell_type": "code",
   "execution_count": 10,
   "metadata": {},
   "outputs": [
    {
     "data": {
      "text/plain": [
       "{-1: 42, 0: 32, 1: 23, 2: 3}"
      ]
     },
     "execution_count": 10,
     "metadata": {},
     "output_type": "execute_result"
    }
   ],
   "source": [
    "label_counter = {}\n",
    "\n",
    "for lat, lng in leisure.values:\n",
    "    sushi_coords = main_data.loc[:,[\"location.lat\", \"location.lng\"]]\n",
    "    sushi_coords.iloc[:,0] = sushi_coords.iloc[:,0] - lat\n",
    "    sushi_coords.iloc[:,1] = sushi_coords.iloc[:,1] - lng\n",
    "    sushi_coords = np.abs(np.sum(sushi_coords, axis = 1))\n",
    "    closest = sushi_coords.argmin()\n",
    "    label_counter[labels[closest]] = label_counter.get(labels[closest], 0) + 1\n",
    "\n",
    "label_counter = {k: label_counter[k] for k in sorted(label_counter)}\n",
    "label_counter"
   ]
  },
  {
   "cell_type": "markdown",
   "metadata": {},
   "source": [
    "### Visualizing "
   ]
  },
  {
   "cell_type": "code",
   "execution_count": 11,
   "metadata": {},
   "outputs": [],
   "source": [
    "import matplotlib as mpl\n",
    "import matplotlib.cm as cm\n",
    "import matplotlib.colors as colors\n",
    "import matplotlib.pyplot as plt\n",
    "import folium\n",
    "import operator"
   ]
  },
  {
   "cell_type": "code",
   "execution_count": 12,
   "metadata": {},
   "outputs": [
    {
     "data": {
      "image/png": "[encoded data removed]",
      "text/plain": [
       "<Figure size 864x360 with 2 Axes>"
      ]
     },
     "metadata": {
      "needs_background": "light"
     },
     "output_type": "display_data"
    }
   ],
   "source": [
    "labels_unique =np.unique(labels, return_counts=True)\n",
    "graph_labels = np.unique(labels)[1:].tolist()\n",
    "graph_labels =[\"No. {}\".format(k) for k in graph_labels]\n",
    "graph_labels.insert(0,\"Outliers\")\n",
    "\n",
    "fig = plt.figure(figsize=(12,5))\n",
    "sushi_bar = fig.add_subplot(1,2,1)\n",
    "leisure_bar = fig.add_subplot(1,2,2, sharex = sushi_bar, sharey = sushi_bar)\n",
    "\n",
    "bars1 = sushi_bar.bar(labels_unique[0], labels_unique[1], width = 0.5, color = \"lightgrey\")\n",
    "sushi_bar.set_xticks(np.unique(labels))\n",
    "sushi_bar.set_xticklabels(graph_labels)\n",
    "sushi_bar.tick_params(axis = \"y\",\n",
    "                     labelleft = None,\n",
    "                     left = None)\n",
    "\n",
    "sushi_bar.set_title(\"Sushi Restaurants per Cluster\", fontsize=15,fontweight=\"bold\")\n",
    "sushi_bar.set_xlabel(\"Cluster\", fontsize=12)\n",
    "bars1[np.argmin(labels_unique[1])].set_color(\"lightgreen\")\n",
    "\n",
    "for bar in bars1:\n",
    "    sushi_bar.text(bar.get_x() + bar.get_width()/2, bar.get_height()-3,\n",
    "                  int(bar.get_height()), ha=\"center\", color=\"black\", fontsize=13, fontweight=\"bold\")\n",
    "\n",
    "\n",
    "bars2 = leisure_bar.bar(label_counter.keys(), label_counter.values(), width = 0.5, color =\"lightgrey\")\n",
    "leisure_bar.tick_params(axis = \"y\",\n",
    "                     labelleft = None,\n",
    "                     left = None)\n",
    "\n",
    "leisure_bar.set_title(\"Nearby Leisure Activities per Cluster\", fontsize=14, fontweight=\"bold\")\n",
    "leisure_bar.set_xlabel(\"Cluster\", fontsize=12)\n",
    "bars2[np.argmax(label_counter.values())].set_color(\"lightgreen\")\n",
    "\n",
    "for bar in bars2:\n",
    "    if bar.get_height() > 3:\n",
    "        height = bar.get_height()-3\n",
    "    else:\n",
    "        height = bar.get_height()-2\n",
    "    leisure_bar.text(bar.get_x() + bar.get_width()/2, height,\n",
    "                  int(bar.get_height()), ha=\"center\", color=\"black\", fontsize=13, fontweight=\"bold\")\n",
    "\n",
    "for ax in fig.get_axes():\n",
    "    ax.spines['right'].set_visible(False)\n",
    "    ax.spines['left'].set_visible(False)\n",
    "    ax.spines['top'].set_visible(False)\n",
    "\n",
    "plt.show()"
   ]
  },
  {
   "cell_type": "code",
   "execution_count": 13,
   "metadata": {},
   "outputs": [
    {
     "data": {
      "image/png": "[encoded data removed]",
      "text/plain": [
       "<Figure size 720x432 with 1 Axes>"
      ]
     },
     "metadata": {
      "needs_background": "light"
     },
     "output_type": "display_data"
    }
   ],
   "source": [
    "attractivity_score = [attractions/restaurants for restaurants, attractions in zip(list(labels_unique[1]), list(label_counter.values()))]\n",
    "\n",
    "plt.figure(figsize=(10,6))\n",
    "bars3 = plt.bar(label_counter.keys(), attractivity_score, width = 0.5, color = \"lightgrey\")\n",
    "\n",
    "plt.xticks(np.unique(labels), graph_labels)\n",
    "plt.tick_params(axis = \"y\",\n",
    "                labelleft = None,\n",
    "                left = None)\n",
    "\n",
    "for bar in bars3:\n",
    "    plt.gca().text(bar.get_x() + bar.get_width()/2, bar.get_height()-0.4,\n",
    "                  \"{:.2f}\".format(float(bar.get_height())), ha=\"center\", color=\"black\", fontsize=13, fontweight=\"bold\")\n",
    "\n",
    "bars3[np.argmax(attractivity_score)].set_color(\"lightgreen\")    \n",
    "plt.gca().spines['right'].set_visible(False)\n",
    "plt.gca().spines['left'].set_visible(False)\n",
    "plt.gca().spines['top'].set_visible(False)\n",
    "\n",
    "plt.title(\"Leisure Time Activities per Sushi Restaurant in Cluster\", fontsize=15, fontweight=\"bold\")\n",
    "plt.xlabel(\"Cluster\", fontsize=12)\n",
    "\n",
    "plt.show();\n",
    "\n"
   ]
  },
  {
   "cell_type": "code",
   "execution_count": 20,
   "metadata": {
    "scrolled": false
   },
   "outputs": [
    {
     "data": {
      "text/html": [
       "<div style=\"width:100%;\"><div style=\"position:relative;width:100%;height:0;padding-bottom:60%;\"><span style=\"color:#565656\">Make this Notebook Trusted to load map: File -> Trust Notebook</span><iframe src=\"about:blank\" style=\"position:absolute;width:100%;height:100%;left:0;top:0;border:none !important;\" data-html=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 onload=\"this.contentDocument.open();this.contentDocument.write(atob(this.getAttribute('data-html')));this.contentDocument.close();\" allowfullscreen webkitallowfullscreen mozallowfullscreen></iframe></div></div>"
      ],
      "text/plain": [
       "<folium.folium.Map at 0x28c36095f88>"
      ]
     },
     "execution_count": 20,
     "metadata": {},
     "output_type": "execute_result"
    }
   ],
   "source": [
    "map_result = folium.Map(location=[latitude, longitude], zoom_start=13)\n",
    "\n",
    "\n",
    "# set color scheme for the clusters\n",
    "x = np.arange(label_num)\n",
    "ys = [i + x + (i*x)**2 for i in range(label_num)]\n",
    "colors_array = cm.rainbow(np.linspace(0, 1, len(ys)))\n",
    "rainbow = [colors.rgb2hex(i) for i in colors_array]\n",
    "\n",
    "# add markers to the map\n",
    "\n",
    "for lat, lon, poi, cluster in zip(main_data['location.lat'], main_data['location.lng'], main_data['name'], labels):\n",
    "    label = folium.Popup(str(poi) + ' Cluster ' + str(cluster), parse_html=True)\n",
    "    if cluster != -1:\n",
    "        c = rainbow[cluster-1]\n",
    "    else:\n",
    "        c = \"black\"\n",
    "    folium.CircleMarker(\n",
    "        [lat, lon],\n",
    "        radius=5,\n",
    "        popup=label,\n",
    "        color=c,\n",
    "        fill=True,\n",
    "        fill_color=c,\n",
    "        fill_opacity=0.7).add_to(map_result)\n",
    "       \n",
    "map_result"
   ]
  },
  {
   "cell_type": "markdown",
   "metadata": {},
   "source": [
    "### What can we see?\n",
    "\n",
    "Cluster 0 clearly is cologne city. It is attracting many people from nearby, but also seems to be very contested. This doesn't seem like a good spot for a new restaurant.\n",
    "\n",
    "It looks like cluster 1 and cluster 2 are spots, which aren't too competitive. However, cluster 2 likely won't attract as many customers from nearby leisure spots.\n",
    "Let's still have closer look at the possible future competitors in both clusters."
   ]
  },
  {
   "cell_type": "code",
   "execution_count": 15,
   "metadata": {},
   "outputs": [],
   "source": [
    "def get_ratings(ven_id, date): \n",
    "    '''\n",
    "    This function returns a dataframe of the Foursquare Data depending on the given venue id and date\n",
    "    '''\n",
    "    \n",
    "    url = ('https://api.foursquare.com/v2/venues/{}?client_id={}&client_secret={}&v={}'\n",
    "            .format(ven_id, client_id, client_secret, date))\n",
    "\n",
    "\n",
    "    results = requests.get(url).json()\n",
    "    venue = results['response'][\"venue\"]\n",
    "\n",
    "    \n",
    "    df = pd.json_normalize(venue)\n",
    "    try:\n",
    "        rating, likes = df[\"rating\"].values[0], df[\"likes.count\"].values[0]\n",
    "    except KeyError:\n",
    "        likes = df[\"likes.count\"].values[0]\n",
    "        return (np.nan, likes)\n",
    "    \n",
    "    \n",
    "    return (rating,likes)\n"
   ]
  },
  {
   "cell_type": "code",
   "execution_count": 16,
   "metadata": {},
   "outputs": [],
   "source": [
    "backup = main_data.copy()\n",
    "backup = backup[backup[\"label\"].isin([1,2])]\n",
    "competition_ratings = backup[\"id\"].apply(get_ratings,args=(20200515,))"
   ]
  },
  {
   "cell_type": "code",
   "execution_count": 17,
   "metadata": {},
   "outputs": [],
   "source": [
    "competition = backup.copy()\n",
    "competition_r = [x[0] for x in competition_ratings]\n",
    "competition_l = [x[1] for x in competition_ratings]\n",
    "\n",
    "competition.loc[:,\"rating\"] = competition_r\n",
    "competition.loc[:,\"likes\"] = competition_l\n",
    "\n",
    "competition = competition.loc[:,[\"name\", \"rating\", \"likes\",\"label\"]]\n",
    "competition = competition.set_index(\"name\")\n",
    "cluster1 = competition[competition[\"label\"] == 1].drop(\"label\", axis = 1)\n",
    "cluster2 = competition[competition[\"label\"] == 2].drop(\"label\", axis = 1)"
   ]
  },
  {
   "cell_type": "code",
   "execution_count": 18,
   "metadata": {},
   "outputs": [
    {
     "name": "stdout",
     "output_type": "stream",
     "text": [
      "Cluster 1\n"
     ]
    },
    {
     "data": {
      "text/html": [
       "<div>\n",
       "<style scoped>\n",
       "    .dataframe tbody tr th:only-of-type {\n",
       "        vertical-align: middle;\n",
       "    }\n",
       "\n",
       "    .dataframe tbody tr th {\n",
       "        vertical-align: top;\n",
       "    }\n",
       "\n",
       "    .dataframe thead th {\n",
       "        text-align: right;\n",
       "    }\n",
       "</style>\n",
       "<table border=\"1\" class=\"dataframe\">\n",
       "  <thead>\n",
       "    <tr style=\"text-align: right;\">\n",
       "      <th></th>\n",
       "      <th>rating</th>\n",
       "      <th>likes</th>\n",
       "    </tr>\n",
       "  </thead>\n",
       "  <tbody>\n",
       "    <tr>\n",
       "      <th>count</th>\n",
       "      <td>3.000000</td>\n",
       "      <td>4.000000</td>\n",
       "    </tr>\n",
       "    <tr>\n",
       "      <th>mean</th>\n",
       "      <td>6.733333</td>\n",
       "      <td>6.250000</td>\n",
       "    </tr>\n",
       "    <tr>\n",
       "      <th>std</th>\n",
       "      <td>1.504438</td>\n",
       "      <td>6.020797</td>\n",
       "    </tr>\n",
       "    <tr>\n",
       "      <th>min</th>\n",
       "      <td>5.000000</td>\n",
       "      <td>1.000000</td>\n",
       "    </tr>\n",
       "    <tr>\n",
       "      <th>25%</th>\n",
       "      <td>6.250000</td>\n",
       "      <td>1.750000</td>\n",
       "    </tr>\n",
       "    <tr>\n",
       "      <th>50%</th>\n",
       "      <td>7.500000</td>\n",
       "      <td>5.000000</td>\n",
       "    </tr>\n",
       "    <tr>\n",
       "      <th>75%</th>\n",
       "      <td>7.600000</td>\n",
       "      <td>9.500000</td>\n",
       "    </tr>\n",
       "    <tr>\n",
       "      <th>max</th>\n",
       "      <td>7.700000</td>\n",
       "      <td>14.000000</td>\n",
       "    </tr>\n",
       "  </tbody>\n",
       "</table>\n",
       "</div>"
      ],
      "text/plain": [
       "         rating      likes\n",
       "count  3.000000   4.000000\n",
       "mean   6.733333   6.250000\n",
       "std    1.504438   6.020797\n",
       "min    5.000000   1.000000\n",
       "25%    6.250000   1.750000\n",
       "50%    7.500000   5.000000\n",
       "75%    7.600000   9.500000\n",
       "max    7.700000  14.000000"
      ]
     },
     "execution_count": 18,
     "metadata": {},
     "output_type": "execute_result"
    }
   ],
   "source": [
    "print(\"Cluster 1\")\n",
    "cluster1.describe()"
   ]
  },
  {
   "cell_type": "code",
   "execution_count": 19,
   "metadata": {},
   "outputs": [
    {
     "name": "stdout",
     "output_type": "stream",
     "text": [
      "Cluster 2\n"
     ]
    },
    {
     "data": {
      "text/html": [
       "<div>\n",
       "<style scoped>\n",
       "    .dataframe tbody tr th:only-of-type {\n",
       "        vertical-align: middle;\n",
       "    }\n",
       "\n",
       "    .dataframe tbody tr th {\n",
       "        vertical-align: top;\n",
       "    }\n",
       "\n",
       "    .dataframe thead th {\n",
       "        text-align: right;\n",
       "    }\n",
       "</style>\n",
       "<table border=\"1\" class=\"dataframe\">\n",
       "  <thead>\n",
       "    <tr style=\"text-align: right;\">\n",
       "      <th></th>\n",
       "      <th>rating</th>\n",
       "      <th>likes</th>\n",
       "    </tr>\n",
       "  </thead>\n",
       "  <tbody>\n",
       "    <tr>\n",
       "      <th>count</th>\n",
       "      <td>4.000000</td>\n",
       "      <td>5.000000</td>\n",
       "    </tr>\n",
       "    <tr>\n",
       "      <th>mean</th>\n",
       "      <td>8.025000</td>\n",
       "      <td>15.800000</td>\n",
       "    </tr>\n",
       "    <tr>\n",
       "      <th>std</th>\n",
       "      <td>0.298608</td>\n",
       "      <td>9.284396</td>\n",
       "    </tr>\n",
       "    <tr>\n",
       "      <th>min</th>\n",
       "      <td>7.600000</td>\n",
       "      <td>6.000000</td>\n",
       "    </tr>\n",
       "    <tr>\n",
       "      <th>25%</th>\n",
       "      <td>7.975000</td>\n",
       "      <td>12.000000</td>\n",
       "    </tr>\n",
       "    <tr>\n",
       "      <th>50%</th>\n",
       "      <td>8.100000</td>\n",
       "      <td>14.000000</td>\n",
       "    </tr>\n",
       "    <tr>\n",
       "      <th>75%</th>\n",
       "      <td>8.150000</td>\n",
       "      <td>16.000000</td>\n",
       "    </tr>\n",
       "    <tr>\n",
       "      <th>max</th>\n",
       "      <td>8.300000</td>\n",
       "      <td>31.000000</td>\n",
       "    </tr>\n",
       "  </tbody>\n",
       "</table>\n",
       "</div>"
      ],
      "text/plain": [
       "         rating      likes\n",
       "count  4.000000   5.000000\n",
       "mean   8.025000  15.800000\n",
       "std    0.298608   9.284396\n",
       "min    7.600000   6.000000\n",
       "25%    7.975000  12.000000\n",
       "50%    8.100000  14.000000\n",
       "75%    8.150000  16.000000\n",
       "max    8.300000  31.000000"
      ]
     },
     "execution_count": 19,
     "metadata": {},
     "output_type": "execute_result"
    }
   ],
   "source": [
    "print(\"Cluster 2\")\n",
    "cluster2.describe()"
   ]
  },
  {
   "cell_type": "markdown",
   "metadata": {},
   "source": [
    "| Cluster 1                          |   rating |   likes |\n",
    "|:------------------------------|---------:|--------:|\n",
    "| MakiMaki Sushi Green          |      7.5 |      14 |\n",
    "| Sushi Mii Bar Restaurant Köln |      5   |       2 |\n",
    "| Sushi Make                    |    No data   |       1 |\n",
    "| Sushi deLux                   |      7.7 |       8 |\n",
    "\n",
    "| Cluster 2        |   rating |   likes |\n",
    "|:------------|---------:|--------:|\n",
    "| Sushi Teria |      7.6 |      12 |\n",
    "| Sushi Ninja |      8.1 |      31 |\n",
    "| MJ Sushi    |      8.3 |      14 |\n",
    "| Sweet Sushi |      8.1 |      16 |\n",
    "| Akémi       |    No data   |       6 |\n"
   ]
  },
  {
   "cell_type": "markdown",
   "metadata": {},
   "source": [
    "### How do the restaurants in the clusters perform?\n",
    "\n",
    "It becomes apparant, that the restaurants in Cluster 2 perform far better in both, likes and rating. \\\n",
    "The restaurants in cluster 1 seem to be the by far weaker competition."
   ]
  },
  {
   "cell_type": "markdown",
   "metadata": {},
   "source": [
    "# Results\n",
    "\n",
    "The analysis overall results in the following main findings:\n",
    "\n",
    "---\n",
    "\n",
    "- There currently are 48 sushi restaurants located in cologne (radius of 4km from city center).\n",
    "\n",
    "---\n",
    "\n",
    "- The clustering algorithm found, that there are 3 clusters accompanied by many spread out outliers at the city's outskirts. While cluster No. 0 is the by far biggest cluster with 22 restaurants located in the city's center, cluster No. 1 and No. 2 are much smaller with 4 and 5 restaurants respectively.\n",
    "\n",
    "---\n",
    "\n",
    "- As the outliers are pretty scattered, they are attracting the most possible customers from leisure spots. Followed with 32 and 23 locations in cluster No. 0 and No. 1, these also hold a solid share. However, cluster No. 2 is containing almost no attractive locations.\n",
    "\n",
    "---\n",
    "\n",
    "- Proportioned by the number of restaurants in the cluster, the leisure location rate of cluster No. 1 is by far the best with 5.75. Cluster 0 and 1 can hardly compete with a rate of 1.45/0.60\n",
    "\n",
    "--- \n",
    "\n",
    "- Comparing the restaurants in cluster No. 1 and No. 2, cluster 2's restaurants perform much better in both, likes and rating."
   ]
  },
  {
   "cell_type": "markdown",
   "metadata": {},
   "source": [
    "# Recommendation\n",
    "\n",
    "Based on the analysed data, cluster 1 seems to be the most attractive cluster for opening a new sushi restaurants. There aren't many future competitors in the region, while a lot of popular places are near, which likely will be attracting possible customers. \\ \n",
    "Additionally, the few competitor restaurants in cluster 1 aren't performing very well in terms of user ranking and user likes. The strongest competitors seem to be \"MakiMaki Shushi Green\" and \"Sushi deLuxe\". The others two restaurants have got poor ratings and/or likes.\n",
    "\n",
    "If confrontation is not an option, it might be considered to settle into a outlier spot near the city's center. This still might be a risky decision though, as the outlier spots near the center are close to the hard-fought cluster No. 0"
   ]
  },
  {
   "cell_type": "markdown",
   "metadata": {},
   "source": [
    "# Conclusion\n",
    "\n",
    "The objective of the analysis was to find a good spot for a new sushi restaurant in Cologne. Based on the given data from the Foursquare DB, it was possible to provide a recommendation. The recommendation is to consider the region \"Köln South\", which was cluster No. 1 in the analysis.\n",
    "It is important to note that one used criteria for this recommendation was the density of attractive leisure places nearby. Likely better results could've been archieved by analysing motion data. As this data isn't publicly available in sufficient quality, this hasn't been done."
   ]
  }
 ],
 "metadata": {
  "kernelspec": {
   "display_name": "Python 3",
   "language": "python",
   "name": "python3"
  },
  "language_info": {
   "codemirror_mode": {
    "name": "ipython",
    "version": 3
   },
   "file_extension": ".py",
   "mimetype": "text/x-python",
   "name": "python",
   "nbconvert_exporter": "python",
   "pygments_lexer": "ipython3",
   "version": "3.7.6"
  }
 },
 "nbformat": 4,
 "nbformat_minor": 4
}

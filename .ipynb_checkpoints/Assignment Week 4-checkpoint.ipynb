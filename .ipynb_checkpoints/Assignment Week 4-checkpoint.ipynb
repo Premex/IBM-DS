{
 "cells": [
  {
   "cell_type": "markdown",
   "metadata": {},
   "source": [
    "# Project Overview\n",
    "\n",
    "### Background:\n",
    "The objective of the project is to find a good spot for a new sushi restaurant in Cologne, Germany. The resulting recommendation can provide future restaurant owners a first insight about the region's competition.\n",
    "\n",
    "\n",
    "\n",
    "<table><tr><td><img src='Stuttgart-Innenstadt.jpg' width= \"600\"></td><td><img src='maki-sushi.jpg'width= \"255\"></td></tr></table>\n",
    "\n",
    "### Approach / Methodology:\n",
    "To achieve this, the DBSCAN Clustering Algorithm will be used. This algorithms can find the number of clusters depending on a spatial radius, making it a good fit for the given problem. \\\n",
    "These clusters will be used to create a map, that is visualizing hot spots, which likely are too competitive to create a new business. The solution will be to pick a spot, that is close to the center, but only part of a small cluster.\n",
    "\n",
    "Additionally, there will also be an attractivity score calculated for each cluster respectively. This will be depending on the most popular leasure time spots inside or very close to the cluster compared to the number of restaurants.\n",
    "\n",
    "At last, the clusters with the most likely chance of a successful market entrance will be compared in more detail, by using the ratings' and like counts' median and mean. If the number of restaurants in those clusters are exceeding 5, the 5 best restaurants in terms of rating and likes will be shown in a separate table as they will likely be the strongest competitors. If the number doesn't exceed 5, all will be shown in detail.\n",
    "\n",
    "### Data:\n",
    "The used data will be explorational data from the Foursquare DB, which is accessable without authentification. The core of the data are the geographical coordinates in order to create the map. However, also rating data of particular venues will be used.\n"
   ]
  },
  {
   "cell_type": "code",
   "execution_count": 2,
   "metadata": {},
   "outputs": [],
   "source": [
    "import pandas as pd\n",
    "import requests\n",
    "from pandas.io.json import json_normalize"
   ]
  },
  {
   "cell_type": "code",
   "execution_count": 117,
   "metadata": {},
   "outputs": [],
   "source": [
    "client_id = \"LCWGCQPJBFP0JJ3TP3CHWJISPZOVMRI524QNQVAFJXYKRYV0\"\n",
    "client_secret = \"H2HVPBKCCCDYIMKMDSNDBG2QJGXZVZSSL5CEGIXZYBFMLZK5\"\n",
    "\n",
    "latitude = 50.938056\n",
    "longitude = 6.956944\n",
    "radius = 4000\n"
   ]
  },
  {
   "cell_type": "code",
   "execution_count": 4,
   "metadata": {},
   "outputs": [],
   "source": [
    "def get_data(date, search_query): \n",
    "    '''\n",
    "    This function returns a dataframe of the Foursquare Data depending on the given date and search term\n",
    "    '''\n",
    "    \n",
    "    url = ('https://api.foursquare.com/v2/venues/search?client_id={}&client_secret={}&ll={},{}&v={}&query={}&radius={}&limit={}'\n",
    "            .format(client_id, client_secret, latitude, longitude, date, search_query, radius, 500))\n",
    "\n",
    "\n",
    "    results = requests.get(url).json()\n",
    "    venues = results['response']['venues']\n",
    "\n",
    "    df = pd.json_normalize(venues)\n",
    "\n",
    "    return df"
   ]
  },
  {
   "cell_type": "code",
   "execution_count": 25,
   "metadata": {},
   "outputs": [],
   "source": [
    "# Get sushi restaurant data\n",
    "main_data = get_data(20200514, \"sushi\").loc[:,[\"id\",\"name\", \"location.lat\", \"location.lng\"]]\n"
   ]
  },
  {
   "cell_type": "code",
   "execution_count": 6,
   "metadata": {},
   "outputs": [
    {
     "data": {
      "text/html": [
       "<div>\n",
       "<style scoped>\n",
       "    .dataframe tbody tr th:only-of-type {\n",
       "        vertical-align: middle;\n",
       "    }\n",
       "\n",
       "    .dataframe tbody tr th {\n",
       "        vertical-align: top;\n",
       "    }\n",
       "\n",
       "    .dataframe thead th {\n",
       "        text-align: right;\n",
       "    }\n",
       "</style>\n",
       "<table border=\"1\" class=\"dataframe\">\n",
       "  <thead>\n",
       "    <tr style=\"text-align: right;\">\n",
       "      <th></th>\n",
       "      <th>lat</th>\n",
       "      <th>lng</th>\n",
       "    </tr>\n",
       "  </thead>\n",
       "  <tbody>\n",
       "    <tr>\n",
       "      <th>0</th>\n",
       "      <td>50.938530</td>\n",
       "      <td>6.954084</td>\n",
       "    </tr>\n",
       "    <tr>\n",
       "      <th>1</th>\n",
       "      <td>50.937882</td>\n",
       "      <td>6.962241</td>\n",
       "    </tr>\n",
       "    <tr>\n",
       "      <th>2</th>\n",
       "      <td>50.940537</td>\n",
       "      <td>6.960486</td>\n",
       "    </tr>\n",
       "    <tr>\n",
       "      <th>3</th>\n",
       "      <td>50.938243</td>\n",
       "      <td>6.962875</td>\n",
       "    </tr>\n",
       "    <tr>\n",
       "      <th>4</th>\n",
       "      <td>50.937425</td>\n",
       "      <td>6.958523</td>\n",
       "    </tr>\n",
       "    <tr>\n",
       "      <th>...</th>\n",
       "      <td>...</td>\n",
       "      <td>...</td>\n",
       "    </tr>\n",
       "    <tr>\n",
       "      <th>95</th>\n",
       "      <td>50.922367</td>\n",
       "      <td>6.965660</td>\n",
       "    </tr>\n",
       "    <tr>\n",
       "      <th>96</th>\n",
       "      <td>50.948068</td>\n",
       "      <td>6.908591</td>\n",
       "    </tr>\n",
       "    <tr>\n",
       "      <th>97</th>\n",
       "      <td>50.916994</td>\n",
       "      <td>6.928838</td>\n",
       "    </tr>\n",
       "    <tr>\n",
       "      <th>98</th>\n",
       "      <td>50.961884</td>\n",
       "      <td>6.978495</td>\n",
       "    </tr>\n",
       "    <tr>\n",
       "      <th>99</th>\n",
       "      <td>50.917226</td>\n",
       "      <td>6.943638</td>\n",
       "    </tr>\n",
       "  </tbody>\n",
       "</table>\n",
       "<p>100 rows × 2 columns</p>\n",
       "</div>"
      ],
      "text/plain": [
       "          lat       lng\n",
       "0   50.938530  6.954084\n",
       "1   50.937882  6.962241\n",
       "2   50.940537  6.960486\n",
       "3   50.938243  6.962875\n",
       "4   50.937425  6.958523\n",
       "..        ...       ...\n",
       "95  50.922367  6.965660\n",
       "96  50.948068  6.908591\n",
       "97  50.916994  6.928838\n",
       "98  50.961884  6.978495\n",
       "99  50.917226  6.943638\n",
       "\n",
       "[100 rows x 2 columns]"
      ]
     },
     "execution_count": 6,
     "metadata": {},
     "output_type": "execute_result"
    }
   ],
   "source": [
    "#Get leasure data by explore statement\n",
    "\n",
    "url = ('https://api.foursquare.com/v2/venues/explore?client_id={}&client_secret={}&ll={},{}&v={}&query=Fun&radius={}&limit={}'\n",
    "            .format(client_id, client_secret, latitude, longitude, 20200514, radius, 500))\n",
    "\n",
    "results = requests.get(url).json()\n",
    "venues = results['response']\n",
    "\n",
    "\n",
    "leisure = venues[\"groups\"][0][\"items\"]\n",
    "\n",
    "result = [entry[\"venue\"] for entry in leisure]\n",
    "\n",
    "result = [(entry[\"location\"][\"lat\"], entry[\"location\"][\"lng\"]) for entry in result]\n",
    "leisure = pd.DataFrame(result, columns= [\"lat\", \"lng\"])\n",
    "leisure"
   ]
  },
  {
   "cell_type": "code",
   "execution_count": 24,
   "metadata": {},
   "outputs": [
    {
     "data": {
      "text/plain": [
       "'Number of Sushi Restaurants in Cologne: 48'"
      ]
     },
     "execution_count": 24,
     "metadata": {},
     "output_type": "execute_result"
    }
   ],
   "source": [
    "\"Number of Sushi Restaurants in Cologne: {}\".format(main_data.shape[0])"
   ]
  },
  {
   "cell_type": "markdown",
   "metadata": {},
   "source": [
    "### Clustering"
   ]
  },
  {
   "cell_type": "code",
   "execution_count": 8,
   "metadata": {},
   "outputs": [],
   "source": [
    "import numpy as np\n",
    "from sklearn.cluster import DBSCAN\n",
    "from sklearn.preprocessing import StandardScaler"
   ]
  },
  {
   "cell_type": "code",
   "execution_count": 26,
   "metadata": {},
   "outputs": [],
   "source": [
    "coords = main_data.loc[:,[\"location.lat\", \"location.lng\"]]\n",
    "coords = StandardScaler().fit_transform(coords)\n",
    "\n",
    "db_cluster = DBSCAN(eps = 0.35, min_samples = 3).fit(coords)\n",
    "\n",
    "labels = db_cluster.labels_\n",
    "label_num = len(np.unique(labels))\n",
    "main_data[\"label\"] = labels\n"
   ]
  },
  {
   "cell_type": "code",
   "execution_count": 10,
   "metadata": {},
   "outputs": [
    {
     "data": {
      "text/plain": [
       "{-1: 42, 0: 32, 1: 23, 2: 3}"
      ]
     },
     "execution_count": 10,
     "metadata": {},
     "output_type": "execute_result"
    }
   ],
   "source": [
    "label_counter = {}\n",
    "\n",
    "for lat, lng in leisure.values:\n",
    "    sushi_coords = main_data.loc[:,[\"location.lat\", \"location.lng\"]]\n",
    "    sushi_coords.iloc[:,0] = sushi_coords.iloc[:,0] - lat\n",
    "    sushi_coords.iloc[:,1] = sushi_coords.iloc[:,1] - lng\n",
    "    sushi_coords = np.abs(np.sum(sushi_coords, axis = 1))\n",
    "    closest = sushi_coords.argmin()\n",
    "    label_counter[labels[closest]] = label_counter.get(labels[closest], 0) + 1\n",
    "\n",
    "label_counter = {k: label_counter[k] for k in sorted(label_counter)}\n",
    "label_counter"
   ]
  },
  {
   "cell_type": "markdown",
   "metadata": {},
   "source": [
    "### Visualizing "
   ]
  },
  {
   "cell_type": "code",
   "execution_count": 11,
   "metadata": {},
   "outputs": [],
   "source": [
    "import matplotlib as mpl\n",
    "import matplotlib.cm as cm\n",
    "import matplotlib.colors as colors\n",
    "import matplotlib.pyplot as plt\n",
    "import folium\n",
    "import operator"
   ]
  },
  {
   "cell_type": "code",
   "execution_count": 23,
   "metadata": {},
   "outputs": [
    {
     "data": {
      "image/png": "[encoded data removed]",
      "text/plain": [
       "<Figure size 864x360 with 2 Axes>"
      ]
     },
     "metadata": {
      "needs_background": "light"
     },
     "output_type": "display_data"
    }
   ],
   "source": [
    "labels_unique =np.unique(labels, return_counts=True)\n",
    "graph_labels = np.unique(labels)[1:].tolist()\n",
    "graph_labels =[\"No. {}\".format(k) for k in graph_labels]\n",
    "graph_labels.insert(0,\"Outliers\")\n",
    "\n",
    "fig = plt.figure(figsize=(12,5))\n",
    "sushi_bar = fig.add_subplot(1,2,1)\n",
    "leisure_bar = fig.add_subplot(1,2,2, sharex = sushi_bar, sharey = sushi_bar)\n",
    "\n",
    "bars1 = sushi_bar.bar(labels_unique[0], labels_unique[1], width = 0.5, color = \"lightgrey\")\n",
    "sushi_bar.set_xticks(np.unique(labels))\n",
    "sushi_bar.set_xticklabels(graph_labels)\n",
    "sushi_bar.tick_params(axis = \"y\",\n",
    "                     labelleft = None,\n",
    "                     left = None)\n",
    "\n",
    "sushi_bar.set_title(\"Sushi Restaurants per Cluster\", fontsize=15,fontweight=\"bold\")\n",
    "sushi_bar.set_xlabel(\"Cluster\", fontsize=12)\n",
    "bars1[np.argmin(labels_unique[1])].set_color(\"lightgreen\")\n",
    "\n",
    "for bar in bars1:\n",
    "    sushi_bar.text(bar.get_x() + bar.get_width()/2, bar.get_height()-3,\n",
    "                  int(bar.get_height()), ha=\"center\", color=\"black\", fontsize=13, fontweight=\"bold\")\n",
    "\n",
    "\n",
    "bars2 = leisure_bar.bar(label_counter.keys(), label_counter.values(), width = 0.5, color =\"lightgrey\")\n",
    "leisure_bar.tick_params(axis = \"y\",\n",
    "                     labelleft = None,\n",
    "                     left = None)\n",
    "\n",
    "leisure_bar.set_title(\"Nearby Leisure Activities per Cluster\", fontsize=14, fontweight=\"bold\")\n",
    "leisure_bar.set_xlabel(\"Cluster\", fontsize=12)\n",
    "bars2[np.argmax(label_counter.values())].set_color(\"lightgreen\")\n",
    "\n",
    "for bar in bars2:\n",
    "    if bar.get_height() > 3:\n",
    "        height = bar.get_height()-3\n",
    "    else:\n",
    "        height = bar.get_height()-2\n",
    "    leisure_bar.text(bar.get_x() + bar.get_width()/2, height,\n",
    "                  int(bar.get_height()), ha=\"center\", color=\"black\", fontsize=13, fontweight=\"bold\")\n",
    "\n",
    "for ax in fig.get_axes():\n",
    "    ax.spines['right'].set_visible(False)\n",
    "    ax.spines['left'].set_visible(False)\n",
    "    ax.spines['top'].set_visible(False)\n",
    "\n",
    "plt.show()"
   ]
  },
  {
   "cell_type": "code",
   "execution_count": 149,
   "metadata": {},
   "outputs": [
    {
     "data": {
      "image/png": "[encoded data removed]",
      "text/plain": [
       "<Figure size 720x432 with 1 Axes>"
      ]
     },
     "metadata": {
      "needs_background": "light"
     },
     "output_type": "display_data"
    }
   ],
   "source": [
    "attractivity_score = [attractions/restaurants for restaurants, attractions in zip(list(labels_unique[1]), list(label_counter.values()))]\n",
    "\n",
    "plt.figure(figsize=(10,6))\n",
    "bars3 = plt.bar(label_counter.keys(), attractivity_score, width = 0.5, color = \"lightgrey\")\n",
    "\n",
    "plt.xticks(np.unique(labels), graph_labels)\n",
    "plt.tick_params(axis = \"y\",\n",
    "                labelleft = None,\n",
    "                left = None)\n",
    "\n",
    "for bar in bars3:\n",
    "    plt.gca().text(bar.get_x() + bar.get_width()/2, bar.get_height()-0.4,\n",
    "                  \"{:.2f}\".format(float(bar.get_height())), ha=\"center\", color=\"black\", fontsize=13, fontweight=\"bold\")\n",
    "\n",
    "bars3[np.argmax(attractivity_score)].set_color(\"lightgreen\")    \n",
    "plt.gca().spines['right'].set_visible(False)\n",
    "plt.gca().spines['left'].set_visible(False)\n",
    "plt.gca().spines['top'].set_visible(False)\n",
    "\n",
    "plt.title(\"Leasure Time Activities per Sushi Restaurant in Cluster\", fontsize=15, fontweight=\"bold\")\n",
    "plt.xlabel(\"Cluster\", fontsize=12)\n",
    "\n",
    "plt.show();\n",
    "\n"
   ]
  },
  {
   "cell_type": "code",
   "execution_count": 146,
   "metadata": {
    "scrolled": false
   },
   "outputs": [
    {
     "data": {
      "text/html": [
       "<div style=\"width:100%;\"><div style=\"position:relative;width:100%;height:0;padding-bottom:60%;\"><span style=\"color:#565656\">Make this Notebook Trusted to load map: File -> Trust Notebook</span><iframe src=\"about:blank\" style=\"position:absolute;width:100%;height:100%;left:0;top:0;border:none !important;\" data-html=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 onload=\"this.contentDocument.open();this.contentDocument.write(atob(this.getAttribute('data-html')));this.contentDocument.close();\" allowfullscreen webkitallowfullscreen mozallowfullscreen></iframe></div></div>"
      ],
      "text/plain": [
       "<folium.folium.Map at 0x223f96ddc08>"
      ]
     },
     "execution_count": 146,
     "metadata": {},
     "output_type": "execute_result"
    }
   ],
   "source": [
    "map_result = folium.Map(location=[latitude, longitude], zoom_start=13)\n",
    "\n",
    "\n",
    "# set color scheme for the clusters\n",
    "x = np.arange(label_num)\n",
    "ys = [i + x + (i*x)**2 for i in range(label_num)]\n",
    "colors_array = cm.rainbow(np.linspace(0, 1, len(ys)))\n",
    "rainbow = [colors.rgb2hex(i) for i in colors_array]\n",
    "\n",
    "# add markers to the map\n",
    "\n",
    "for lat, lon, poi, cluster in zip(main_data['location.lat'], main_data['location.lng'], main_data['name'], labels):\n",
    "    label = folium.Popup(str(poi) + ' Cluster ' + str(cluster), parse_html=True)\n",
    "    if cluster != -1:\n",
    "        c = rainbow[cluster-1]\n",
    "    else:\n",
    "        c = \"black\"\n",
    "    folium.CircleMarker(\n",
    "        [lat, lon],\n",
    "        radius=5,\n",
    "        popup=label,\n",
    "        color=c,\n",
    "        fill=True,\n",
    "        fill_color=c,\n",
    "        fill_opacity=0.7).add_to(map_result)\n",
    "       \n",
    "map_result"
   ]
  },
  {
   "cell_type": "markdown",
   "metadata": {},
   "source": [
    "### What can we see?\n",
    "\n",
    "Cluster 0 clearly is cologne city. It is attracting many people from nearby, but also seems to be very contested. This doesn't seem like a good spot for a new restaurant.\n",
    "\n",
    "It looks like cluster 1 and cluster 2 are spots, which aren't too competitive. However, cluster 2 likely won't attract as many customers from nearby leasure spots.\n",
    "Let's still have closer look at the possible future competitors in both clusters."
   ]
  },
  {
   "cell_type": "code",
   "execution_count": 89,
   "metadata": {},
   "outputs": [],
   "source": [
    "def get_ratings(ven_id, date): \n",
    "    '''\n",
    "    This function returns a dataframe of the Foursquare Data depending on the given venue id and date\n",
    "    '''\n",
    "    \n",
    "    url = ('https://api.foursquare.com/v2/venues/{}?client_id={}&client_secret={}&v={}'\n",
    "            .format(ven_id, client_id, client_secret, date))\n",
    "\n",
    "\n",
    "    results = requests.get(url).json()\n",
    "    venue = results['response'][\"venue\"]\n",
    "\n",
    "    \n",
    "    df = pd.json_normalize(venue)\n",
    "    try:\n",
    "        rating, likes = df[\"rating\"].values[0], df[\"likes.count\"].values[0]\n",
    "    except KeyError:\n",
    "        likes = df[\"likes.count\"].values[0]\n",
    "        return (np.nan, likes)\n",
    "    \n",
    "    \n",
    "    return (rating,likes)\n"
   ]
  },
  {
   "cell_type": "code",
   "execution_count": 118,
   "metadata": {},
   "outputs": [
    {
     "data": {
      "text/html": [
       "<div>\n",
       "<style scoped>\n",
       "    .dataframe tbody tr th:only-of-type {\n",
       "        vertical-align: middle;\n",
       "    }\n",
       "\n",
       "    .dataframe tbody tr th {\n",
       "        vertical-align: top;\n",
       "    }\n",
       "\n",
       "    .dataframe thead th {\n",
       "        text-align: right;\n",
       "    }\n",
       "</style>\n",
       "<table border=\"1\" class=\"dataframe\">\n",
       "  <thead>\n",
       "    <tr style=\"text-align: right;\">\n",
       "      <th></th>\n",
       "      <th>id</th>\n",
       "      <th>name</th>\n",
       "      <th>location.lat</th>\n",
       "      <th>location.lng</th>\n",
       "      <th>label</th>\n",
       "    </tr>\n",
       "  </thead>\n",
       "  <tbody>\n",
       "    <tr>\n",
       "      <th>13</th>\n",
       "      <td>52446b75498e70059404fd10</td>\n",
       "      <td>Sushi Teria</td>\n",
       "      <td>50.925576</td>\n",
       "      <td>6.958278</td>\n",
       "      <td>2</td>\n",
       "    </tr>\n",
       "    <tr>\n",
       "      <th>15</th>\n",
       "      <td>58825ec9084be50765b07772</td>\n",
       "      <td>MakiMaki Sushi Green</td>\n",
       "      <td>50.930603</td>\n",
       "      <td>6.947333</td>\n",
       "      <td>1</td>\n",
       "    </tr>\n",
       "    <tr>\n",
       "      <th>16</th>\n",
       "      <td>562a53ae498e06eb73d23e4c</td>\n",
       "      <td>Sushi Mii Bar Restaurant Köln</td>\n",
       "      <td>50.929170</td>\n",
       "      <td>6.940870</td>\n",
       "      <td>1</td>\n",
       "    </tr>\n",
       "    <tr>\n",
       "      <th>19</th>\n",
       "      <td>5b4cd4133d4791002ccb9880</td>\n",
       "      <td>Sushi Make</td>\n",
       "      <td>50.928113</td>\n",
       "      <td>6.935547</td>\n",
       "      <td>1</td>\n",
       "    </tr>\n",
       "    <tr>\n",
       "      <th>22</th>\n",
       "      <td>505627d5e4b0e7a97867e685</td>\n",
       "      <td>Sushi deLux</td>\n",
       "      <td>50.925901</td>\n",
       "      <td>6.938229</td>\n",
       "      <td>1</td>\n",
       "    </tr>\n",
       "    <tr>\n",
       "      <th>23</th>\n",
       "      <td>526bd8c611d24647b36e00ff</td>\n",
       "      <td>Sushi Ninja</td>\n",
       "      <td>50.918019</td>\n",
       "      <td>6.960475</td>\n",
       "      <td>2</td>\n",
       "    </tr>\n",
       "    <tr>\n",
       "      <th>26</th>\n",
       "      <td>517006ebe4b0eb52a55812ea</td>\n",
       "      <td>MJ Sushi</td>\n",
       "      <td>50.921627</td>\n",
       "      <td>6.962776</td>\n",
       "      <td>2</td>\n",
       "    </tr>\n",
       "    <tr>\n",
       "      <th>27</th>\n",
       "      <td>59947c546cf01a204108bba3</td>\n",
       "      <td>Sweet Sushi</td>\n",
       "      <td>50.921612</td>\n",
       "      <td>6.957237</td>\n",
       "      <td>2</td>\n",
       "    </tr>\n",
       "    <tr>\n",
       "      <th>47</th>\n",
       "      <td>4b75b103f964a5205b1d2ee3</td>\n",
       "      <td>Akémi</td>\n",
       "      <td>50.919919</td>\n",
       "      <td>6.959966</td>\n",
       "      <td>2</td>\n",
       "    </tr>\n",
       "  </tbody>\n",
       "</table>\n",
       "</div>"
      ],
      "text/plain": [
       "                          id                           name  location.lat  \\\n",
       "13  52446b75498e70059404fd10                    Sushi Teria     50.925576   \n",
       "15  58825ec9084be50765b07772           MakiMaki Sushi Green     50.930603   \n",
       "16  562a53ae498e06eb73d23e4c  Sushi Mii Bar Restaurant Köln     50.929170   \n",
       "19  5b4cd4133d4791002ccb9880                     Sushi Make     50.928113   \n",
       "22  505627d5e4b0e7a97867e685                    Sushi deLux     50.925901   \n",
       "23  526bd8c611d24647b36e00ff                    Sushi Ninja     50.918019   \n",
       "26  517006ebe4b0eb52a55812ea                       MJ Sushi     50.921627   \n",
       "27  59947c546cf01a204108bba3                    Sweet Sushi     50.921612   \n",
       "47  4b75b103f964a5205b1d2ee3                          Akémi     50.919919   \n",
       "\n",
       "    location.lng  label  \n",
       "13      6.958278      2  \n",
       "15      6.947333      1  \n",
       "16      6.940870      1  \n",
       "19      6.935547      1  \n",
       "22      6.938229      1  \n",
       "23      6.960475      2  \n",
       "26      6.962776      2  \n",
       "27      6.957237      2  \n",
       "47      6.959966      2  "
      ]
     },
     "execution_count": 118,
     "metadata": {},
     "output_type": "execute_result"
    }
   ],
   "source": [
    "backup = main_data.copy()\n",
    "backup = backup[backup[\"label\"].isin([1,2])]\n",
    "competition_ratings = backup[\"id\"].apply(get_ratings,args=(20200515,))"
   ]
  },
  {
   "cell_type": "code",
   "execution_count": 143,
   "metadata": {},
   "outputs": [],
   "source": [
    "competition = backup.copy()\n",
    "competition_r = [x[0] for x in competition_ratings]\n",
    "competition_l = [x[1] for x in competition_ratings]\n",
    "\n",
    "competition.loc[:,\"rating\"] = competition_r\n",
    "competition.loc[:,\"likes\"] = competition_l\n",
    "\n",
    "competition = competition.loc[:,[\"name\", \"rating\", \"likes\",\"label\"]]\n",
    "competition = competition.set_index(\"name\")\n",
    "cluster1 = competition[competition[\"label\"] == 1].drop(\"label\", axis = 1)\n",
    "cluster2 = competition[competition[\"label\"] == 2].drop(\"label\", axis = 1)"
   ]
  },
  {
   "cell_type": "code",
   "execution_count": 144,
   "metadata": {},
   "outputs": [
    {
     "name": "stdout",
     "output_type": "stream",
     "text": [
      "Cluster 1\n"
     ]
    },
    {
     "data": {
      "text/html": [
       "<div>\n",
       "<style scoped>\n",
       "    .dataframe tbody tr th:only-of-type {\n",
       "        vertical-align: middle;\n",
       "    }\n",
       "\n",
       "    .dataframe tbody tr th {\n",
       "        vertical-align: top;\n",
       "    }\n",
       "\n",
       "    .dataframe thead th {\n",
       "        text-align: right;\n",
       "    }\n",
       "</style>\n",
       "<table border=\"1\" class=\"dataframe\">\n",
       "  <thead>\n",
       "    <tr style=\"text-align: right;\">\n",
       "      <th></th>\n",
       "      <th>rating</th>\n",
       "      <th>likes</th>\n",
       "    </tr>\n",
       "  </thead>\n",
       "  <tbody>\n",
       "    <tr>\n",
       "      <th>count</th>\n",
       "      <td>3.000000</td>\n",
       "      <td>4.000000</td>\n",
       "    </tr>\n",
       "    <tr>\n",
       "      <th>mean</th>\n",
       "      <td>6.733333</td>\n",
       "      <td>6.250000</td>\n",
       "    </tr>\n",
       "    <tr>\n",
       "      <th>std</th>\n",
       "      <td>1.504438</td>\n",
       "      <td>6.020797</td>\n",
       "    </tr>\n",
       "    <tr>\n",
       "      <th>min</th>\n",
       "      <td>5.000000</td>\n",
       "      <td>1.000000</td>\n",
       "    </tr>\n",
       "    <tr>\n",
       "      <th>25%</th>\n",
       "      <td>6.250000</td>\n",
       "      <td>1.750000</td>\n",
       "    </tr>\n",
       "    <tr>\n",
       "      <th>50%</th>\n",
       "      <td>7.500000</td>\n",
       "      <td>5.000000</td>\n",
       "    </tr>\n",
       "    <tr>\n",
       "      <th>75%</th>\n",
       "      <td>7.600000</td>\n",
       "      <td>9.500000</td>\n",
       "    </tr>\n",
       "    <tr>\n",
       "      <th>max</th>\n",
       "      <td>7.700000</td>\n",
       "      <td>14.000000</td>\n",
       "    </tr>\n",
       "  </tbody>\n",
       "</table>\n",
       "</div>"
      ],
      "text/plain": [
       "         rating      likes\n",
       "count  3.000000   4.000000\n",
       "mean   6.733333   6.250000\n",
       "std    1.504438   6.020797\n",
       "min    5.000000   1.000000\n",
       "25%    6.250000   1.750000\n",
       "50%    7.500000   5.000000\n",
       "75%    7.600000   9.500000\n",
       "max    7.700000  14.000000"
      ]
     },
     "execution_count": 144,
     "metadata": {},
     "output_type": "execute_result"
    }
   ],
   "source": [
    "print(\"Cluster 1\")\n",
    "cluster1.describe()"
   ]
  },
  {
   "cell_type": "code",
   "execution_count": 145,
   "metadata": {},
   "outputs": [
    {
     "name": "stdout",
     "output_type": "stream",
     "text": [
      "Cluster 2\n"
     ]
    },
    {
     "data": {
      "text/html": [
       "<div>\n",
       "<style scoped>\n",
       "    .dataframe tbody tr th:only-of-type {\n",
       "        vertical-align: middle;\n",
       "    }\n",
       "\n",
       "    .dataframe tbody tr th {\n",
       "        vertical-align: top;\n",
       "    }\n",
       "\n",
       "    .dataframe thead th {\n",
       "        text-align: right;\n",
       "    }\n",
       "</style>\n",
       "<table border=\"1\" class=\"dataframe\">\n",
       "  <thead>\n",
       "    <tr style=\"text-align: right;\">\n",
       "      <th></th>\n",
       "      <th>rating</th>\n",
       "      <th>likes</th>\n",
       "    </tr>\n",
       "  </thead>\n",
       "  <tbody>\n",
       "    <tr>\n",
       "      <th>count</th>\n",
       "      <td>4.000000</td>\n",
       "      <td>5.000000</td>\n",
       "    </tr>\n",
       "    <tr>\n",
       "      <th>mean</th>\n",
       "      <td>8.025000</td>\n",
       "      <td>15.800000</td>\n",
       "    </tr>\n",
       "    <tr>\n",
       "      <th>std</th>\n",
       "      <td>0.298608</td>\n",
       "      <td>9.284396</td>\n",
       "    </tr>\n",
       "    <tr>\n",
       "      <th>min</th>\n",
       "      <td>7.600000</td>\n",
       "      <td>6.000000</td>\n",
       "    </tr>\n",
       "    <tr>\n",
       "      <th>25%</th>\n",
       "      <td>7.975000</td>\n",
       "      <td>12.000000</td>\n",
       "    </tr>\n",
       "    <tr>\n",
       "      <th>50%</th>\n",
       "      <td>8.100000</td>\n",
       "      <td>14.000000</td>\n",
       "    </tr>\n",
       "    <tr>\n",
       "      <th>75%</th>\n",
       "      <td>8.150000</td>\n",
       "      <td>16.000000</td>\n",
       "    </tr>\n",
       "    <tr>\n",
       "      <th>max</th>\n",
       "      <td>8.300000</td>\n",
       "      <td>31.000000</td>\n",
       "    </tr>\n",
       "  </tbody>\n",
       "</table>\n",
       "</div>"
      ],
      "text/plain": [
       "         rating      likes\n",
       "count  4.000000   5.000000\n",
       "mean   8.025000  15.800000\n",
       "std    0.298608   9.284396\n",
       "min    7.600000   6.000000\n",
       "25%    7.975000  12.000000\n",
       "50%    8.100000  14.000000\n",
       "75%    8.150000  16.000000\n",
       "max    8.300000  31.000000"
      ]
     },
     "execution_count": 145,
     "metadata": {},
     "output_type": "execute_result"
    }
   ],
   "source": [
    "print(\"Cluster 2\")\n",
    "cluster2.describe()"
   ]
  },
  {
   "cell_type": "markdown",
   "metadata": {},
   "source": [
    "| Cluster 1                          |   rating |   likes |\n",
    "|:------------------------------|---------:|--------:|\n",
    "| MakiMaki Sushi Green          |      7.5 |      14 |\n",
    "| Sushi Mii Bar Restaurant Köln |      5   |       2 |\n",
    "| Sushi Make                    |    No data   |       1 |\n",
    "| Sushi deLux                   |      7.7 |       8 |\n",
    "\n",
    "| Cluster 2        |   rating |   likes |\n",
    "|:------------|---------:|--------:|\n",
    "| Sushi Teria |      7.6 |      12 |\n",
    "| Sushi Ninja |      8.1 |      31 |\n",
    "| MJ Sushi    |      8.3 |      14 |\n",
    "| Sweet Sushi |      8.1 |      16 |\n",
    "| Akémi       |    No data   |       6 |\n"
   ]
  },
  {
   "cell_type": "markdown",
   "metadata": {},
   "source": [
    "### How do the restaurants in the clusters perform?\n",
    "\n",
    "It becomes apparant, that the restaurants in Cluster 2 perform far better in both, likes and rating. \\\n",
    "The restaurants in cluster 1 seem to be the by far weaker competition."
   ]
  },
  {
   "cell_type": "markdown",
   "metadata": {},
   "source": [
    "# Results\n",
    "\n",
    "The analysis overall results in the following main findings:\n",
    "1. There currently are 48 sushi restaurants located in cologne (radius of 4km from city center).\n",
    "---\n",
    "2. The clustering algorithm found, that there are 3 clusters accompanied by many spread out outliers at the city's outskirts. While cluster No. 0 is the by far biggest cluster with 22 restaurants located in the city's center, cluster No. 1 and No. 2 are much smaller with 4 and 5 restaurants respectively.\n",
    "---\n",
    "3. As the outliers are pretty scattered, they are attracting the most possible customers from leisure spots. Followed with 32 and 23 locations in cluster No. 0 and No. 1, these also hold a solid share. However, cluster No. 2 is containing almost no attractive locations.\n",
    "---\n",
    "4. Proportioned by the number of restaurants in the cluster, the leisure location rate of cluster No. 1 is by far the best with 5.75. Cluster 0 and 1 can hardly compete with a rate of 1.45/0.60\n",
    "---\n",
    "5. Comparing the restaurants in cluster No. 1 and No. 2, cluster 2's restaurants perform much better in both, likes and rating."
   ]
  },
  {
   "cell_type": "markdown",
   "metadata": {},
   "source": [
    "# Recommendation\n",
    "\n",
    "Based on the analysed data, cluster 1 seems to be the most attractive cluster for opening a new sushi restaurants. There aren't many future competitors in the region, while a lot of popular places are near, which likely will be attracting possible customers. \\ \n",
    "Additionally, the few competitor restaurants in cluster 1 aren't performing very well in terms of user ranking and user likes. The strongest competitors seem to be \"MakiMaki Shushi Green\" and \"Sushi deLuxe\". The others two restaurants have got poor ratings and/or likes.\n",
    "\n",
    "If confrontation is not an option, it might be considered to settle into a outlier spot near the city's center. This still might be a risky decision though, as the outlier spots near the center are close to the hard-fought cluster No. 0"
   ]
  },
  {
   "cell_type": "markdown",
   "metadata": {},
   "source": [
    "# Conclusion\n",
    "\n",
    "The objective of the analysis was to find a good spot for a new sushi restaurant in Cologne. Based on the given data from the Foursquare DB, it was possible to provide a recommendation. The recommendation is to consider the region \"Köln South\", which was cluster No. 1 in the analysis.\n",
    "It is important to note that one used criteria for this recommendation was the density of attractive leisure places nearby. Likely better results could've been archieved by analysing motion data. As this data isn't publicly available in sufficient quality, this hasn't been done."
   ]
  }
 ],
 "metadata": {
  "kernelspec": {
   "display_name": "Python 3",
   "language": "python",
   "name": "python3"
  },
  "language_info": {
   "codemirror_mode": {
    "name": "ipython",
    "version": 3
   },
   "file_extension": ".py",
   "mimetype": "text/x-python",
   "name": "python",
   "nbconvert_exporter": "python",
   "pygments_lexer": "ipython3",
   "version": "3.7.6"
  }
 },
 "nbformat": 4,
 "nbformat_minor": 4
}
